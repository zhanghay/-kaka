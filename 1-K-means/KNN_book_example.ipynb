{
 "cells": [
  {
   "cell_type": "code",
   "execution_count": 3,
   "metadata": {},
   "outputs": [
    {
     "name": "stdout",
     "output_type": "stream",
     "text": [
      "游戏时间0\n",
      "每年飞行里程0\n",
      "每年冰激凌食用升数50\n",
      "种类：一点\n"
     ]
    }
   ],
   "source": [
    "from numpy import *\n",
    "import operator\n",
    "\n",
    "def file2matrix(filename):\n",
    "    fr=open(filename)\n",
    "    arrayofLines=fr.readlines()\n",
    "    numberofLine=len(arrayofLines)\n",
    "    returnMat=zeros((numberofLine,3))#前三个有效,另一维度置为3\n",
    "    classLabelVector=[]\n",
    "    index=0\n",
    "    for line in arrayofLines:\n",
    "        line=line.strip()#截取去掉回车\n",
    "        listFromLine=line.split('\\t')#以\\t将其分为列表\n",
    "        returnMat[index,:]=listFromLine[0:3]#取前三个\n",
    "        classLabelVector.append(int(listFromLine[-1]))#将列表得最后一列给向量,\n",
    "                                                    #-1值告诉是倒数第一个,去掉int//int限定转为int型而非字符串\n",
    "        index+=1\n",
    "    return returnMat,classLabelVector\n",
    "\n",
    "\n",
    "\n",
    "def autoNorm(dataSet):\n",
    "    minVals=dataSet.min(0)\n",
    "    maxVals=dataSet.max(0)\n",
    "    ranges=maxVals-minVals\n",
    "    normDataSet=zeros(shape(dataSet))#0-matrix\n",
    "    m=dataSet.shape[0]\n",
    "    normDataSet=dataSet-tile(minVals,(m,1))#行m次,列不变\n",
    "    normDataSet=normDataSet/tile(ranges,(m,1))\n",
    "    return normDataSet,ranges,minVals\n",
    "\n",
    "\n",
    "def createDataSet():\n",
    "    group=array([[1.0,1.1],[1.0,1.0],[0,0],[0,0.1]])\n",
    "    labels=['A','A','B','B']\n",
    "    return group,labels\n",
    "    \n",
    "def classify0(inX,dataSet,labels,k):\n",
    "    dataSetSize=dataSet.shape[0]\n",
    "    diffMat=tile(inX,(dataSetSize,1))-dataSet\n",
    "    sqDiffMat=diffMat**2\n",
    "    sqDistance=sqDiffMat.sum(axis=1)\n",
    "    distance=sqDistance**0.5\n",
    "    sortedDistance=distance.argsort()\n",
    "    classCount={}\n",
    "    for i in range(k):\n",
    "        votelabel=labels[sortedDistance[i]]\n",
    "        classCount[votelabel]=classCount.get(votelabel,0)+1\n",
    "    sortedClassCount=sorted(classCount.items(),\n",
    "            key=operator.itemgetter(1),reverse=True)\n",
    "    return sortedClassCount[0][0]\n",
    "\n",
    "\n",
    "def datingClassTest():\n",
    "    hoRatio=0.10\n",
    "    datingDataMat,labs=file2matrix('datingTestSet2.txt')\n",
    "    normMat,ranges,minVals=autoNorm(datingDataMat)#注意ranges不要和range重名\n",
    "    m=normMat.shape[0]\n",
    "    numTestVecs=int(m*hoRatio)\n",
    "    errorCount=0.0\n",
    "    for i in range(numTestVecs):\n",
    "        classifierResult=classify0(normMat[i,:],normMat[numTestVecs:m,:],\n",
    "            labs[numTestVecs:m],3)\n",
    "        print(\"近邻结果:%d','实际结果:%d\"\\\n",
    "            %(classifierResult,labs[i]))\n",
    "        if classifierResult!=labs[i]:\n",
    "            errorCount+=1.0\n",
    "    print('总错误率:%f'%(errorCount/float(numTestVecs)))\n",
    "\n",
    "def raw_input(str):\n",
    "    dataIn=input(str)\n",
    "    return dataIn\n",
    "def classifyPerson():\n",
    "    resultList=['不是','一点','大概率']\n",
    "    percentTats=float(raw_input('游戏时间'))\n",
    "    ffmile=float(raw_input('每年飞行里程'))\n",
    "    icecream=float(raw_input('每年冰激凌食用升数'))\n",
    "    datingDataMat,datingLabels=file2matrix('datingTestSet2.txt')\n",
    "    normMat,ranges,minVals=autoNorm(datingDataMat)\n",
    "    inArr=array([ffmile,percentTats,icecream])\n",
    "    classifierResult=classify0((inArr-minVals)/ranges,normMat,datingLabels,3)\n",
    "    print(\"种类：\"+resultList[classifierResult -1])\n",
    "def main():\n",
    "    classifyPerson()\n",
    "\n",
    "if __name__=='__main__':\n",
    "    main()"
   ]
  },
  {
   "cell_type": "code",
   "execution_count": 4,
   "metadata": {},
   "outputs": [
    {
     "data": {
      "text/plain": [
       "3"
      ]
     },
     "execution_count": 4,
     "metadata": {},
     "output_type": "execute_result"
    }
   ],
   "source": [
    "1\n",
    "2\n",
    "3\n",
    "\n"
   ]
  },
  {
   "cell_type": "code",
   "execution_count": null,
   "metadata": {},
   "outputs": [],
   "source": []
  }
 ],
 "metadata": {
  "kernelspec": {
   "display_name": "Python 3",
   "language": "python",
   "name": "python3"
  },
  "language_info": {
   "codemirror_mode": {
    "name": "ipython",
    "version": 3
   },
   "file_extension": ".py",
   "mimetype": "text/x-python",
   "name": "python",
   "nbconvert_exporter": "python",
   "pygments_lexer": "ipython3",
   "version": "3.6.8"
  }
 },
 "nbformat": 4,
 "nbformat_minor": 2
}
